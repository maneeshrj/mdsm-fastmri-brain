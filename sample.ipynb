{
 "cells": [
  {
   "cell_type": "code",
   "execution_count": 2,
   "id": "fe70be6d-5b94-4a33-9a96-9eac8b2c19a3",
   "metadata": {
    "tags": []
   },
   "outputs": [],
   "source": [
    "from pathlib import Path\n",
    "import os\n",
    "import sys\n",
    "import shutil\n",
    "import numpy as np\n",
    "import time\n",
    "import datetime\n",
    "import numpy as np\n",
    "import torch\n",
    "import torch.nn as nn\n",
    "import torchvision\n",
    "import cfg\n",
    "from torchvision.utils import save_image, make_grid\n",
    "\n",
    "from types import SimpleNamespace\n",
    "\n",
    "from models.ResNet import Res12_Quadratic, Res18_Quadratic\n",
    "from functions.sampling import Langevin_E, SS_denoise,  Annealed_Langevin_E,Reverse_AIS_sampling,AIS_sampling\n",
    "from functions.analysis import save_sample_pdf"
   ]
  },
  {
   "cell_type": "code",
   "execution_count": 13,
   "id": "4b6e3000-0826-46fc-924e-5a4d68949d18",
   "metadata": {
    "tags": []
   },
   "outputs": [],
   "source": [
    "args = SimpleNamespace()\n",
    "args.n_samples_save = 30000\n",
    "args.batch_size = 1024\n",
    "args.n_chan = 64\n",
    "args.n_gpus = 1\n",
    "args.max_lr = 1e-4\n",
    "args.min_noise = 0.1\n",
    "args.max_noise = 3\n",
    "args.noise_distribution = 'exp'\n",
    "args.save_every = 5000\n",
    "\n",
    "args.dataset = 'fmnist'\n",
    "args.log = 'fmnist_EBM'\n",
    "args.lr_schedule = 'cosine'\n",
    "args.rand_seed = 42\n",
    "args.cont = False\n",
    "args.net_indx = 5000\n",
    "\n",
    "args.annealing_schedule = 'exp'\n",
    "args.sample_mode = 'all'\n",
    "args.time = '2024_Apr18_00_05'\n",
    "args.file_name = 'mdsm_ebm' \n",
    "args.sample_step_size = 0.01"
   ]
  },
  {
   "cell_type": "code",
   "execution_count": 9,
   "id": "fe6b090f-c9ef-441d-94a3-5e3c0b5e2543",
   "metadata": {
    "tags": []
   },
   "outputs": [],
   "source": [
    "torch.cuda.empty_cache()\n",
    "torch.cuda.manual_seed(args.rand_seed)\n",
    "\n",
    "if args.dataset == 'cifar':\n",
    "    sample_x = torch.zeros((args.batch_size,3,32,32))\n",
    "    #netE = Res18_Quadratic(3,args.n_chan,32,normalize=False,AF=nn.ELU())\n",
    "    netE = SE_Res18_Quadratic(3,args.n_chan,32,normalize=False,AF=Swish())\n",
    "\n",
    "elif args.dataset == 'mnist':\n",
    "    sample_x = torch.zeros((args.batch_size,1,32,32))\n",
    "    netE = Res12_Quadratic(1,args.n_chan,32,normalize=False,AF=nn.ELU())\n",
    "\n",
    "elif args.dataset == 'fmnist':\n",
    "    sample_x = torch.zeros((args.batch_size,1,32,32))\n",
    "    netE = Res12_Quadratic(1,args.n_chan,32,normalize=False,AF=nn.ELU())\n",
    "\n",
    "else:\n",
    "    NotImplementedError('{} unknown dataset'.format(args.dataset))"
   ]
  },
  {
   "cell_type": "code",
   "execution_count": 10,
   "id": "c853958c-b354-4be8-aba9-c791b3e603be",
   "metadata": {
    "tags": []
   },
   "outputs": [],
   "source": [
    "device = torch.device(\"cuda:0\" if torch.cuda.is_available() else \"cpu\")\n",
    "netE = netE.to(device)\n",
    "if args.n_gpus >1:\n",
    "    netE = nn.DataParallel(netE)\n",
    "\n",
    "root = 'logs/' + args.log + '_'+ args.time"
   ]
  },
  {
   "cell_type": "code",
   "execution_count": 11,
   "id": "2f3e0bf5-13fc-4905-a9e3-075d87396ad3",
   "metadata": {
    "tags": []
   },
   "outputs": [],
   "source": [
    "if args.annealing_schedule =='exp':\n",
    "    Nsampling = 2000 #exponential schedule with flat region in the beginning and end\n",
    "    Tmax,Tmin = 100,1\n",
    "    T = Tmax*np.exp(-np.linspace(0,Nsampling-1,Nsampling)*(np.log(Tmax/Tmin)/Nsampling))\n",
    "    T = np.concatenate((Tmax*np.ones((500,)),T),axis=0)\n",
    "    T = np.concatenate((T,Tmin*np.linspace(1,0,200)),axis=0)\n",
    "\n",
    "elif args.annealing_schedule == 'lin':\n",
    "    Nsampling = 2000 #linear schedule with flat region in the beginning and end\n",
    "    Tmax,Tmin = 100,1\n",
    "    T = np.linspace(Tmax,Tmin,Nsampling)\n",
    "    T = np.concatenate((Tmax*np.ones((500,)),T),axis=0)\n",
    "    T = np.concatenate((T,Tmin*np.linspace(1,0,200)),axis=0)"
   ]
  },
  {
   "cell_type": "code",
   "execution_count": null,
   "id": "cdeb9afd-b59c-44e4-b068-99d8d37ece1c",
   "metadata": {
    "tags": []
   },
   "outputs": [
    {
     "name": "stdout",
     "output_type": "stream",
     "text": [
      "generating samples for mdsm_ebm5000.pt\n",
      "langevin step 100\n",
      "langevin step 200\n",
      "langevin step 300\n",
      "langevin step 400\n",
      "langevin step 500\n",
      "langevin step 600\n"
     ]
    }
   ],
   "source": [
    "if args.sample_mode == 'single':\n",
    "    filename = args.file_name + str(args.net_indx) + '.pt'\n",
    "    netE.load_state_dict(torch.load(root + '/models/'+filename))\n",
    "\n",
    "    n_batches = int(np.ceil(args.n_samples_save/args.batch_size))\n",
    "\n",
    "    denoise_samples = []\n",
    "    print('sampling starts')\n",
    "    for i in range(n_batches):\n",
    "        initial_x = 0.5+torch.randn_like(sample_x).to(device)\n",
    "        x_list,E_trace = Annealed_Langevin_E(netE,initial_x,args.sample_step_size,T,100)\n",
    "\n",
    "        x_denoise = SS_denoise(x_list[-1][:].to(device),netE,0.1)\n",
    "        denoise_samples.append(x_denoise)\n",
    "        print('batch {}/{} finished'.format((i+1),n_batches))\n",
    "\n",
    "    denoise_samples = torch.cat(denoise_samples,0)\n",
    "    torch.save(denoise_samples,root + '/samples/' + args.dataset+'_'+str(args.n_samples_save)+'samples.pt')\n",
    "\n",
    "\n",
    "elif args.sample_mode == 'all':\n",
    "    n_batches = int(np.ceil(256/args.batch_size))\n",
    "    i = args.net_indx\n",
    "    while True:\n",
    "        filename = args.file_name + str(i) + '.pt'\n",
    "        i += args.save_every\n",
    "        try:\n",
    "            netE.load_state_dict(torch.load(root + '/models/'+filename))\n",
    "        except:\n",
    "            print(root + '/models/'+filename)\n",
    "            print('file not found or reached last file')\n",
    "            break\n",
    "\n",
    "        print('generating samples for '+ filename)\n",
    "        denoise_samples = []\n",
    "        for j in range(n_batches):\n",
    "            initial_x = 0.5+torch.randn_like(sample_x).to(device)\n",
    "            x_list,E_trace = Annealed_Langevin_E(netE,initial_x,args.sample_step_size,T,100)\n",
    "            print(str(len(x_list)))\n",
    "            x_denoise = SS_denoise(x_list[-1].to(device),netE,0.1)\n",
    "            denoise_samples.append(x_denoise)\n",
    "            print('batch {}/{} finished'.format((j+1),n_batches))\n",
    "        denoise_samples = torch.cat(denoise_samples,0)\n",
    "        save_sample_pdf(denoise_samples[0:256],(16,16),root + '/samples/' + args.dataset +'_256samples_'+str(i)+'knet_denoise.pdf')"
   ]
  },
  {
   "cell_type": "code",
   "execution_count": null,
   "id": "5fb5b861-7913-4ffc-96da-f08e26d0750e",
   "metadata": {},
   "outputs": [],
   "source": []
  }
 ],
 "metadata": {
  "kernelspec": {
   "display_name": "Deep",
   "language": "python",
   "name": "deep"
  },
  "language_info": {
   "codemirror_mode": {
    "name": "ipython",
    "version": 3
   },
   "file_extension": ".py",
   "mimetype": "text/x-python",
   "name": "python",
   "nbconvert_exporter": "python",
   "pygments_lexer": "ipython3",
   "version": "3.9.16"
  }
 },
 "nbformat": 4,
 "nbformat_minor": 5
}
